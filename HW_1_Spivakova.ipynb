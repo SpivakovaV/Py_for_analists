{
 "cells": [
  {
   "cell_type": "markdown",
   "id": "24e72a34",
   "metadata": {},
   "source": [
    "## Условие 2"
   ]
  },
  {
   "cell_type": "code",
   "execution_count": 11,
   "id": "6a421014",
   "metadata": {},
   "outputs": [
    {
     "name": "stdout",
     "output_type": "stream",
     "text": [
      "Общее количесво фруктов на складе: 60\n"
     ]
    }
   ],
   "source": [
    "fruit_storage = {\n",
    "    'apples': 10,\n",
    "    'bananas': 20,\n",
    "    'oranges': 30\n",
    "}\n",
    "\n",
    "def calc_quantity(storage_dict):\n",
    "    total = 0\n",
    "    for i in storage_dict.values():\n",
    "        total += i\n",
    "    return total\n",
    "        \n",
    "print(f'Общее количество фруктов на складе: {calc_quantity(fruit_storage)}')"
   ]
  },
  {
   "cell_type": "markdown",
   "id": "f41f0cf8",
   "metadata": {},
   "source": [
    "## Условие 3"
   ]
  },
  {
   "cell_type": "code",
   "execution_count": 25,
   "id": "491bcb30",
   "metadata": {},
   "outputs": [
    {
     "name": "stdout",
     "output_type": "stream",
     "text": [
      "Сумма затрат без отрицательных значений: 1425\n"
     ]
    }
   ],
   "source": [
    "costs = [100, 125, -90, 345, 655, -1, 0, 200]\n",
    "\n",
    "new_costs = [i for i in costs if i >=0]\n",
    "\n",
    "print(f'Сумма затрат без отрицательных значений: {sum(new_costs)}')"
   ]
  },
  {
   "cell_type": "markdown",
   "id": "f3e00dba",
   "metadata": {},
   "source": [
    "## Условие 4"
   ]
  },
  {
   "cell_type": "code",
   "execution_count": 56,
   "id": "ce9761fb",
   "metadata": {},
   "outputs": [],
   "source": [
    "dates = ['2021-09-14', '2021-12-15', '2021-09-08', '2021-12-05', '2021-10-09', \n",
    "                 '2021-09-30', '2021-12-22', '2021-11-29', '2021-12-24', '2021-11-26', \n",
    "                 '2021-10-27', '2021-12-18', '2021-11-09', '2021-11-23', '2021-09-27', \n",
    "                 '2021-10-02', '2021-12-27', '2021-09-20', '2021-12-13', '2021-11-01', \n",
    "                 '2021-11-09', '2021-12-06', '2021-12-08', '2021-10-09', '2021-10-31', \n",
    "                 '2021-09-30', '2021-11-09', '2021-12-13', '2021-10-26', '2021-12-09']\n",
    "\n",
    "amount = [1270, 8413, 9028, 3703, 5739, 4095, 295, 4944, 5723, 3701, \n",
    "                             4471, 651, 7037, 4274, 6275, 4988, 6930, 2971, 6592, 2004, \n",
    "                             2822, 519, 3406, 2732, 5015, 2008, 316, 6333, 5700, 2887]"
   ]
  },
  {
   "cell_type": "markdown",
   "id": "66f8c80c",
   "metadata": {},
   "source": [
    "### 4.1"
   ]
  },
  {
   "cell_type": "code",
   "execution_count": 57,
   "id": "efc83bf0",
   "metadata": {},
   "outputs": [
    {
     "name": "stdout",
     "output_type": "stream",
     "text": [
      "Cумма выручки за ноябрь составляет: 25098\n"
     ]
    }
   ],
   "source": [
    "november_revenue = sum([amount[i] for i in range(len(dates)) if dates[i].split('-')[1] == '11'])\n",
    "print(f\"Cумма выручки за ноябрь составляет: {november_revenue}\")"
   ]
  },
  {
   "cell_type": "markdown",
   "id": "f7c632f9",
   "metadata": {},
   "source": [
    "### 4.2"
   ]
  },
  {
   "cell_type": "code",
   "execution_count": 63,
   "id": "b5125014",
   "metadata": {},
   "outputs": [
    {
     "name": "stdout",
     "output_type": "stream",
     "text": [
      "Выручка по месяцам: {'09': 25647, '12': 45452, '10': 28645, '11': 25098}\n"
     ]
    }
   ],
   "source": [
    "from typing import List, Dict\n",
    "\n",
    "def sales_by_month(dates: List[str], sales: List[int]) -> Dict[str, int]:\n",
    "    result = {}\n",
    "    for i in range(len(dates)):\n",
    "        month = dates[i].split('-')[1]\n",
    "        if month in result:\n",
    "            result[month] += sales[i]\n",
    "        else:\n",
    "            result[month] = sales[i]\n",
    "    return result\n",
    "\n",
    "sales_dict = sales_by_month(dates, amount)\n",
    "print(f'Выручка по месяцам: {sales_dict}')"
   ]
  }
 ],
 "metadata": {
  "kernelspec": {
   "display_name": "Python 3 (ipykernel)",
   "language": "python",
   "name": "python3"
  },
  "language_info": {
   "codemirror_mode": {
    "name": "ipython",
    "version": 3
   },
   "file_extension": ".py",
   "mimetype": "text/x-python",
   "name": "python",
   "nbconvert_exporter": "python",
   "pygments_lexer": "ipython3",
   "version": "3.9.13"
  }
 },
 "nbformat": 4,
 "nbformat_minor": 5
}
